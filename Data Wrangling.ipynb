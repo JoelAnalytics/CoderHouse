{
 "cells": [
  {
   "cell_type": "markdown",
   "id": "f4c72511",
   "metadata": {},
   "source": [
    "### La api usada fue : https://www.api-football.com/"
   ]
  },
  {
   "cell_type": "code",
   "execution_count": null,
   "id": "f0325529",
   "metadata": {},
   "outputs": [],
   "source": [
    "import requests\n",
    "import json\n",
    "import pandas as pd"
   ]
  },
  {
   "cell_type": "code",
   "execution_count": 4,
   "id": "dead65d3",
   "metadata": {},
   "outputs": [],
   "source": [
    "key='30f7719247ac1b80b33e5597eb093118'"
   ]
  },
  {
   "cell_type": "code",
   "execution_count": 5,
   "id": "cd179fea",
   "metadata": {},
   "outputs": [],
   "source": [
    "import http.client\n",
    "\n",
    "conn = http.client.HTTPSConnection(\"v3.football.api-sports.io\")\n",
    "\n",
    "headers = {\n",
    "    'x-rapidapi-host': \"v3.football.api-sports.io\",\n",
    "    'x-rapidapi-key': \"30f7719247ac1b80b33e5597eb093118\"\n",
    "    }\n",
    "\n",
    "conn.request(\"GET\", \"/leagues\", headers=headers)\n",
    "\n",
    "res = conn.getresponse()\n",
    "data = res.read()"
   ]
  },
  {
   "cell_type": "code",
   "execution_count": 6,
   "id": "142d612a",
   "metadata": {},
   "outputs": [],
   "source": [
    "json_data = json.loads(data)"
   ]
  },
  {
   "cell_type": "code",
   "execution_count": 7,
   "id": "34c80646",
   "metadata": {},
   "outputs": [
    {
     "data": {
      "text/plain": [
       "dict_keys(['get', 'parameters', 'errors', 'results', 'paging', 'response'])"
      ]
     },
     "execution_count": 7,
     "metadata": {},
     "output_type": "execute_result"
    }
   ],
   "source": [
    "json_data.keys()"
   ]
  },
  {
   "cell_type": "code",
   "execution_count": 11,
   "id": "dc686f70",
   "metadata": {},
   "outputs": [],
   "source": [
    "#Vamos a buscar a la liga argentina de Futbol y guardarla para explorarla"
   ]
  },
  {
   "cell_type": "code",
   "execution_count": 12,
   "id": "08c5a647",
   "metadata": {},
   "outputs": [],
   "source": [
    "info_leagues=json_data[\"response\"]"
   ]
  },
  {
   "cell_type": "code",
   "execution_count": 13,
   "id": "7b42d41d",
   "metadata": {},
   "outputs": [],
   "source": [
    "for x in info_leagues:\n",
    "    if x['league']['name']==\"Liga Profesional Argentina\":\n",
    "        info_season=x[\"seasons\"]\n",
    "        Liga_argentina=x"
   ]
  },
  {
   "cell_type": "markdown",
   "id": "69f5b5d9",
   "metadata": {},
   "source": [
    "### La liga Argentina tiene ID 128"
   ]
  },
  {
   "cell_type": "code",
   "execution_count": 15,
   "id": "00ac22a6",
   "metadata": {},
   "outputs": [
    {
     "data": {
      "text/plain": [
       "dict_keys(['league', 'country', 'seasons'])"
      ]
     },
     "execution_count": 15,
     "metadata": {},
     "output_type": "execute_result"
    }
   ],
   "source": [
    "Liga_argentina.keys()"
   ]
  },
  {
   "cell_type": "code",
   "execution_count": 16,
   "id": "c0022082",
   "metadata": {},
   "outputs": [
    {
     "data": {
      "text/plain": [
       "{'id': 128,\n",
       " 'name': 'Liga Profesional Argentina',\n",
       " 'type': 'League',\n",
       " 'logo': 'https://media.api-sports.io/football/leagues/128.png'}"
      ]
     },
     "execution_count": 16,
     "metadata": {},
     "output_type": "execute_result"
    }
   ],
   "source": [
    "Liga_argentina[\"league\"]"
   ]
  },
  {
   "cell_type": "code",
   "execution_count": 18,
   "id": "c6beb00b",
   "metadata": {},
   "outputs": [],
   "source": [
    "seasons=Liga_argentina[\"seasons\"]"
   ]
  },
  {
   "cell_type": "markdown",
   "id": "421aae46",
   "metadata": {},
   "source": [
    "### Descubrimos que la API tiene info de las temporadas 2015 a la 2023 de la liga argentina"
   ]
  },
  {
   "cell_type": "code",
   "execution_count": 39,
   "id": "86adee5b",
   "metadata": {},
   "outputs": [
    {
     "name": "stdout",
     "output_type": "stream",
     "text": [
      "[2015, 2016, 2017, 2018, 2019, 2020, 2021, 2022, 2023]\n"
     ]
    }
   ],
   "source": [
    "year_season=[]\n",
    "\n",
    "for x in seasons:\n",
    "    year_season.append(x[\"year\"])\n",
    "    \n",
    "print(year_season)   "
   ]
  },
  {
   "cell_type": "code",
   "execution_count": 41,
   "id": "22b6117c",
   "metadata": {},
   "outputs": [
    {
     "name": "stdout",
     "output_type": "stream",
     "text": [
      "['2015', '2016', '2017', '2018', '2019', '2020', '2021', '2022', '2023']\n"
     ]
    }
   ],
   "source": [
    "year_season=[str(x) for x in year_season]\n",
    "print(year_season)"
   ]
  },
  {
   "cell_type": "markdown",
   "id": "91889c1b",
   "metadata": {},
   "source": [
    "### En el Dadhboard de la Api encontre que el ID de River Plate es 435"
   ]
  },
  {
   "cell_type": "code",
   "execution_count": 70,
   "id": "27d35b03",
   "metadata": {},
   "outputs": [],
   "source": [
    "import http.client\n",
    "\n",
    "conn = http.client.HTTPSConnection(\"v3.football.api-sports.io\")\n",
    "\n",
    "headers = {\n",
    "    'x-rapidapi-host': \"v3.football.api-sports.io\",\n",
    "    'x-rapidapi-key': \"30f7719247ac1b80b33e5597eb093118\"\n",
    "    }\n",
    "\n",
    "conn.request(\"GET\", \"/teams/statistics?season=2022&team=435&league=128\", headers=headers)\n",
    "\n",
    "res = conn.getresponse()\n",
    "data = res.read()\n",
    "\n",
    "json_data = json.loads(data)"
   ]
  },
  {
   "cell_type": "code",
   "execution_count": 74,
   "id": "91c6fcc2",
   "metadata": {},
   "outputs": [
    {
     "data": {
      "text/plain": [
       "dict_keys(['league', 'team', 'form', 'fixtures', 'goals', 'biggest', 'clean_sheet', 'failed_to_score', 'penalty', 'lineups', 'cards'])"
      ]
     },
     "execution_count": 74,
     "metadata": {},
     "output_type": "execute_result"
    }
   ],
   "source": [
    "json_data[\"response\"].keys()"
   ]
  },
  {
   "cell_type": "code",
   "execution_count": 79,
   "id": "c795680f",
   "metadata": {},
   "outputs": [
    {
     "data": {
      "text/plain": [
       "{'for': {'total': {'home': 40, 'away': 35, 'total': 75},\n",
       "  'average': {'home': '1.9', 'away': '1.7', 'total': '1.8'},\n",
       "  'minute': {'0-15': {'total': 7, 'percentage': '9.21%'},\n",
       "   '16-30': {'total': 10, 'percentage': '13.16%'},\n",
       "   '31-45': {'total': 12, 'percentage': '15.79%'},\n",
       "   '46-60': {'total': 10, 'percentage': '13.16%'},\n",
       "   '61-75': {'total': 19, 'percentage': '25.00%'},\n",
       "   '76-90': {'total': 13, 'percentage': '17.11%'},\n",
       "   '91-105': {'total': 5, 'percentage': '6.58%'},\n",
       "   '106-120': {'total': None, 'percentage': None}}},\n",
       " 'against': {'total': {'home': 22, 'away': 14, 'total': 36},\n",
       "  'average': {'home': '1.0', 'away': '0.7', 'total': '0.9'},\n",
       "  'minute': {'0-15': {'total': 3, 'percentage': '8.57%'},\n",
       "   '16-30': {'total': 5, 'percentage': '14.29%'},\n",
       "   '31-45': {'total': 5, 'percentage': '14.29%'},\n",
       "   '46-60': {'total': 7, 'percentage': '20.00%'},\n",
       "   '61-75': {'total': 11, 'percentage': '31.43%'},\n",
       "   '76-90': {'total': 2, 'percentage': '5.71%'},\n",
       "   '91-105': {'total': 2, 'percentage': '5.71%'},\n",
       "   '106-120': {'total': None, 'percentage': None}}}}"
      ]
     },
     "execution_count": 79,
     "metadata": {},
     "output_type": "execute_result"
    }
   ],
   "source": [
    "json_data[\"response\"][\"goals\"]"
   ]
  },
  {
   "cell_type": "code",
   "execution_count": 81,
   "id": "ee59f3bf",
   "metadata": {},
   "outputs": [
    {
     "data": {
      "text/plain": [
       "{'total': {'home': 40, 'away': 35, 'total': 75},\n",
       " 'average': {'home': '1.9', 'away': '1.7', 'total': '1.8'},\n",
       " 'minute': {'0-15': {'total': 7, 'percentage': '9.21%'},\n",
       "  '16-30': {'total': 10, 'percentage': '13.16%'},\n",
       "  '31-45': {'total': 12, 'percentage': '15.79%'},\n",
       "  '46-60': {'total': 10, 'percentage': '13.16%'},\n",
       "  '61-75': {'total': 19, 'percentage': '25.00%'},\n",
       "  '76-90': {'total': 13, 'percentage': '17.11%'},\n",
       "  '91-105': {'total': 5, 'percentage': '6.58%'},\n",
       "  '106-120': {'total': None, 'percentage': None}}}"
      ]
     },
     "execution_count": 81,
     "metadata": {},
     "output_type": "execute_result"
    }
   ],
   "source": [
    "json_data[\"response\"][\"goals\"][\"for\"]"
   ]
  },
  {
   "cell_type": "code",
   "execution_count": 59,
   "id": "9cfd9b40",
   "metadata": {},
   "outputs": [
    {
     "data": {
      "text/plain": [
       "['2015', '2016', '2017', '2018', '2019', '2020', '2021', '2022', '2023']"
      ]
     },
     "execution_count": 59,
     "metadata": {},
     "output_type": "execute_result"
    }
   ],
   "source": [
    "year_season"
   ]
  },
  {
   "cell_type": "markdown",
   "id": "b216922f",
   "metadata": {},
   "source": [
    "### Voy a iterar y hacer multiples llamadas a la API para que meta en un diccionario la info de varios años sobre las estadisticas de goles que hizo River a sus rivales segun el momento del partido(Medido en minuto del partido)"
   ]
  },
  {
   "cell_type": "code",
   "execution_count": 199,
   "id": "e5f92cbf",
   "metadata": {
    "scrolled": true
   },
   "outputs": [
    {
     "name": "stdout",
     "output_type": "stream",
     "text": [
      "[{'0-15': {'total': 4, 'percentage': '8.51%'}, '16-30': {'total': 8, 'percentage': '17.02%'}, '31-45': {'total': 7, 'percentage': '14.89%'}, '46-60': {'total': 6, 'percentage': '12.77%'}, '61-75': {'total': 8, 'percentage': '17.02%'}, '76-90': {'total': 13, 'percentage': '27.66%'}, '91-105': {'total': 1, 'percentage': '2.13%'}, '106-120': {'total': None, 'percentage': None}}, {'0-15': {'total': 5, 'percentage': '10.20%'}, '16-30': {'total': 6, 'percentage': '12.24%'}, '31-45': {'total': 7, 'percentage': '14.29%'}, '46-60': {'total': 8, 'percentage': '16.33%'}, '61-75': {'total': 12, 'percentage': '24.49%'}, '76-90': {'total': 9, 'percentage': '18.37%'}, '91-105': {'total': 2, 'percentage': '4.08%'}, '106-120': {'total': None, 'percentage': None}}, {'0-15': {'total': 4, 'percentage': '10.53%'}, '16-30': {'total': 4, 'percentage': '10.53%'}, '31-45': {'total': 7, 'percentage': '18.42%'}, '46-60': {'total': 7, 'percentage': '18.42%'}, '61-75': {'total': 6, 'percentage': '15.79%'}, '76-90': {'total': 9, 'percentage': '23.68%'}, '91-105': {'total': 1, 'percentage': '2.63%'}, '106-120': {'total': None, 'percentage': None}}, {'0-15': {'total': 4, 'percentage': '9.76%'}, '16-30': {'total': 8, 'percentage': '19.51%'}, '31-45': {'total': 7, 'percentage': '17.07%'}, '46-60': {'total': 7, 'percentage': '17.07%'}, '61-75': {'total': 6, 'percentage': '14.63%'}, '76-90': {'total': 9, 'percentage': '21.95%'}, '91-105': {'total': None, 'percentage': None}, '106-120': {'total': None, 'percentage': None}}, {'0-15': {'total': None, 'percentage': None}, '16-30': {'total': 8, 'percentage': '19.51%'}, '31-45': {'total': 7, 'percentage': '17.07%'}, '46-60': {'total': 10, 'percentage': '24.39%'}, '61-75': {'total': 12, 'percentage': '29.27%'}, '76-90': {'total': 3, 'percentage': '7.32%'}, '91-105': {'total': 1, 'percentage': '2.44%'}, '106-120': {'total': None, 'percentage': None}}, {'0-15': {'total': 3, 'percentage': '15.79%'}, '16-30': {'total': 3, 'percentage': '15.79%'}, '31-45': {'total': 2, 'percentage': '10.53%'}, '46-60': {'total': 1, 'percentage': '5.26%'}, '61-75': {'total': 6, 'percentage': '31.58%'}, '76-90': {'total': 4, 'percentage': '21.05%'}, '91-105': {'total': None, 'percentage': None}, '106-120': {'total': None, 'percentage': None}}, {'0-15': {'total': 10, 'percentage': '12.66%'}, '16-30': {'total': 7, 'percentage': '8.86%'}, '31-45': {'total': 13, 'percentage': '16.46%'}, '46-60': {'total': 14, 'percentage': '17.72%'}, '61-75': {'total': 22, 'percentage': '27.85%'}, '76-90': {'total': 8, 'percentage': '10.13%'}, '91-105': {'total': 3, 'percentage': '3.80%'}, '106-120': {'total': 2, 'percentage': '2.53%'}}, {'0-15': {'total': 7, 'percentage': '9.21%'}, '16-30': {'total': 10, 'percentage': '13.16%'}, '31-45': {'total': 12, 'percentage': '15.79%'}, '46-60': {'total': 10, 'percentage': '13.16%'}, '61-75': {'total': 19, 'percentage': '25.00%'}, '76-90': {'total': 13, 'percentage': '17.11%'}, '91-105': {'total': 5, 'percentage': '6.58%'}, '106-120': {'total': None, 'percentage': None}}, {'0-15': {'total': 1, 'percentage': '14.29%'}, '16-30': {'total': None, 'percentage': None}, '31-45': {'total': 1, 'percentage': '14.29%'}, '46-60': {'total': 1, 'percentage': '14.29%'}, '61-75': {'total': 2, 'percentage': '28.57%'}, '76-90': {'total': 2, 'percentage': '28.57%'}, '91-105': {'total': None, 'percentage': None}, '106-120': {'total': None, 'percentage': None}}]\n"
     ]
    }
   ],
   "source": [
    "import http.client\n",
    "\n",
    "conn = http.client.HTTPSConnection(\"v3.football.api-sports.io\")\n",
    "\n",
    "headers = {\n",
    "    'x-rapidapi-host': \"v3.football.api-sports.io\",\n",
    "    'x-rapidapi-key': \"30f7719247ac1b80b33e5597eb093118\"\n",
    "    }\n",
    "\n",
    "parte1=\"/teams/statistics?season=\"\n",
    "parte2=\"&team=435&league=128\"\n",
    "goals_info=[]\n",
    "\n",
    "for x in year_season:\n",
    "    conn.request(\"GET\", parte1+x+parte2, headers=headers)\n",
    "    res = conn.getresponse()\n",
    "    data = res.read()\n",
    "    json_data = json.loads(data)\n",
    "    goals_info.append(json_data[\"response\"][\"goals\"][\"for\"][\"minute\"])\n",
    "    \n",
    "print(goals_info)"
   ]
  },
  {
   "cell_type": "code",
   "execution_count": 226,
   "id": "8150ca01",
   "metadata": {},
   "outputs": [],
   "source": [
    "dfs = []\n",
    "for x in goals_info:\n",
    "    df = pd.DataFrame.from_dict(x,orient='index')\n",
    "    dfs.append(df)\n",
    "\n",
    "df_concat = pd.concat(dfs, axis=1)"
   ]
  },
  {
   "cell_type": "markdown",
   "id": "994542d7",
   "metadata": {},
   "source": [
    "### De esta forma logre armar un DataFrame que contiene las estadisticas de los goles hechos por River desde el 2015 hasta el 2023 segun en que franja de minutos sucedio."
   ]
  },
  {
   "cell_type": "code",
   "execution_count": 189,
   "id": "4a989681",
   "metadata": {
    "scrolled": true
   },
   "outputs": [
    {
     "data": {
      "text/html": [
       "<div>\n",
       "<style scoped>\n",
       "    .dataframe tbody tr th:only-of-type {\n",
       "        vertical-align: middle;\n",
       "    }\n",
       "\n",
       "    .dataframe tbody tr th {\n",
       "        vertical-align: top;\n",
       "    }\n",
       "\n",
       "    .dataframe thead th {\n",
       "        text-align: right;\n",
       "    }\n",
       "</style>\n",
       "<table border=\"1\" class=\"dataframe\">\n",
       "  <thead>\n",
       "    <tr style=\"text-align: right;\">\n",
       "      <th></th>\n",
       "      <th>total</th>\n",
       "      <th>total</th>\n",
       "      <th>total</th>\n",
       "      <th>total</th>\n",
       "      <th>total</th>\n",
       "      <th>total</th>\n",
       "      <th>total</th>\n",
       "      <th>total</th>\n",
       "      <th>total</th>\n",
       "    </tr>\n",
       "  </thead>\n",
       "  <tbody>\n",
       "    <tr>\n",
       "      <th>0-15</th>\n",
       "      <td>4.0</td>\n",
       "      <td>5.0</td>\n",
       "      <td>4.0</td>\n",
       "      <td>4.0</td>\n",
       "      <td>NaN</td>\n",
       "      <td>3.0</td>\n",
       "      <td>10</td>\n",
       "      <td>7.0</td>\n",
       "      <td>1.0</td>\n",
       "    </tr>\n",
       "    <tr>\n",
       "      <th>16-30</th>\n",
       "      <td>8.0</td>\n",
       "      <td>6.0</td>\n",
       "      <td>4.0</td>\n",
       "      <td>8.0</td>\n",
       "      <td>8.0</td>\n",
       "      <td>3.0</td>\n",
       "      <td>7</td>\n",
       "      <td>10.0</td>\n",
       "      <td>NaN</td>\n",
       "    </tr>\n",
       "    <tr>\n",
       "      <th>31-45</th>\n",
       "      <td>7.0</td>\n",
       "      <td>7.0</td>\n",
       "      <td>7.0</td>\n",
       "      <td>7.0</td>\n",
       "      <td>7.0</td>\n",
       "      <td>2.0</td>\n",
       "      <td>13</td>\n",
       "      <td>12.0</td>\n",
       "      <td>1.0</td>\n",
       "    </tr>\n",
       "    <tr>\n",
       "      <th>46-60</th>\n",
       "      <td>6.0</td>\n",
       "      <td>8.0</td>\n",
       "      <td>7.0</td>\n",
       "      <td>7.0</td>\n",
       "      <td>10.0</td>\n",
       "      <td>1.0</td>\n",
       "      <td>14</td>\n",
       "      <td>10.0</td>\n",
       "      <td>1.0</td>\n",
       "    </tr>\n",
       "    <tr>\n",
       "      <th>61-75</th>\n",
       "      <td>8.0</td>\n",
       "      <td>12.0</td>\n",
       "      <td>6.0</td>\n",
       "      <td>6.0</td>\n",
       "      <td>12.0</td>\n",
       "      <td>6.0</td>\n",
       "      <td>22</td>\n",
       "      <td>19.0</td>\n",
       "      <td>2.0</td>\n",
       "    </tr>\n",
       "    <tr>\n",
       "      <th>76-90</th>\n",
       "      <td>13.0</td>\n",
       "      <td>9.0</td>\n",
       "      <td>9.0</td>\n",
       "      <td>9.0</td>\n",
       "      <td>3.0</td>\n",
       "      <td>4.0</td>\n",
       "      <td>8</td>\n",
       "      <td>13.0</td>\n",
       "      <td>2.0</td>\n",
       "    </tr>\n",
       "    <tr>\n",
       "      <th>91-105</th>\n",
       "      <td>1.0</td>\n",
       "      <td>2.0</td>\n",
       "      <td>1.0</td>\n",
       "      <td>NaN</td>\n",
       "      <td>1.0</td>\n",
       "      <td>NaN</td>\n",
       "      <td>3</td>\n",
       "      <td>5.0</td>\n",
       "      <td>NaN</td>\n",
       "    </tr>\n",
       "    <tr>\n",
       "      <th>106-120</th>\n",
       "      <td>NaN</td>\n",
       "      <td>NaN</td>\n",
       "      <td>NaN</td>\n",
       "      <td>NaN</td>\n",
       "      <td>NaN</td>\n",
       "      <td>NaN</td>\n",
       "      <td>2</td>\n",
       "      <td>NaN</td>\n",
       "      <td>NaN</td>\n",
       "    </tr>\n",
       "  </tbody>\n",
       "</table>\n",
       "</div>"
      ],
      "text/plain": [
       "         total  total  total  total  total  total  total  total  total\n",
       "0-15       4.0    5.0    4.0    4.0    NaN    3.0     10    7.0    1.0\n",
       "16-30      8.0    6.0    4.0    8.0    8.0    3.0      7   10.0    NaN\n",
       "31-45      7.0    7.0    7.0    7.0    7.0    2.0     13   12.0    1.0\n",
       "46-60      6.0    8.0    7.0    7.0   10.0    1.0     14   10.0    1.0\n",
       "61-75      8.0   12.0    6.0    6.0   12.0    6.0     22   19.0    2.0\n",
       "76-90     13.0    9.0    9.0    9.0    3.0    4.0      8   13.0    2.0\n",
       "91-105     1.0    2.0    1.0    NaN    1.0    NaN      3    5.0    NaN\n",
       "106-120    NaN    NaN    NaN    NaN    NaN    NaN      2    NaN    NaN"
      ]
     },
     "execution_count": 189,
     "metadata": {},
     "output_type": "execute_result"
    }
   ],
   "source": [
    "df_final=df_concat.iloc[:, [0, 2, 4,6 ,8 ,10 ,12 ,14 ,16]]\n",
    "df_final"
   ]
  },
  {
   "cell_type": "markdown",
   "id": "493eb467",
   "metadata": {},
   "source": [
    "### Aca como resultado final tengo los goles que hizo river por año segun el momento del partido en minutos"
   ]
  },
  {
   "cell_type": "code",
   "execution_count": 190,
   "id": "b4d214c2",
   "metadata": {},
   "outputs": [],
   "source": [
    "df_final.columns=year_season"
   ]
  },
  {
   "cell_type": "code",
   "execution_count": 208,
   "id": "1b2481ee",
   "metadata": {},
   "outputs": [
    {
     "data": {
      "text/html": [
       "<div>\n",
       "<style scoped>\n",
       "    .dataframe tbody tr th:only-of-type {\n",
       "        vertical-align: middle;\n",
       "    }\n",
       "\n",
       "    .dataframe tbody tr th {\n",
       "        vertical-align: top;\n",
       "    }\n",
       "\n",
       "    .dataframe thead th {\n",
       "        text-align: right;\n",
       "    }\n",
       "</style>\n",
       "<table border=\"1\" class=\"dataframe\">\n",
       "  <thead>\n",
       "    <tr style=\"text-align: right;\">\n",
       "      <th></th>\n",
       "      <th>2015</th>\n",
       "      <th>2016</th>\n",
       "      <th>2017</th>\n",
       "      <th>2018</th>\n",
       "      <th>2019</th>\n",
       "      <th>2020</th>\n",
       "      <th>2021</th>\n",
       "      <th>2022</th>\n",
       "      <th>2023</th>\n",
       "    </tr>\n",
       "  </thead>\n",
       "  <tbody>\n",
       "    <tr>\n",
       "      <th>0-15</th>\n",
       "      <td>4.0</td>\n",
       "      <td>5.0</td>\n",
       "      <td>4.0</td>\n",
       "      <td>4.0</td>\n",
       "      <td>NaN</td>\n",
       "      <td>3.0</td>\n",
       "      <td>10</td>\n",
       "      <td>7.0</td>\n",
       "      <td>1.0</td>\n",
       "    </tr>\n",
       "    <tr>\n",
       "      <th>16-30</th>\n",
       "      <td>8.0</td>\n",
       "      <td>6.0</td>\n",
       "      <td>4.0</td>\n",
       "      <td>8.0</td>\n",
       "      <td>8.0</td>\n",
       "      <td>3.0</td>\n",
       "      <td>7</td>\n",
       "      <td>10.0</td>\n",
       "      <td>NaN</td>\n",
       "    </tr>\n",
       "    <tr>\n",
       "      <th>31-45</th>\n",
       "      <td>7.0</td>\n",
       "      <td>7.0</td>\n",
       "      <td>7.0</td>\n",
       "      <td>7.0</td>\n",
       "      <td>7.0</td>\n",
       "      <td>2.0</td>\n",
       "      <td>13</td>\n",
       "      <td>12.0</td>\n",
       "      <td>1.0</td>\n",
       "    </tr>\n",
       "    <tr>\n",
       "      <th>46-60</th>\n",
       "      <td>6.0</td>\n",
       "      <td>8.0</td>\n",
       "      <td>7.0</td>\n",
       "      <td>7.0</td>\n",
       "      <td>10.0</td>\n",
       "      <td>1.0</td>\n",
       "      <td>14</td>\n",
       "      <td>10.0</td>\n",
       "      <td>1.0</td>\n",
       "    </tr>\n",
       "    <tr>\n",
       "      <th>61-75</th>\n",
       "      <td>8.0</td>\n",
       "      <td>12.0</td>\n",
       "      <td>6.0</td>\n",
       "      <td>6.0</td>\n",
       "      <td>12.0</td>\n",
       "      <td>6.0</td>\n",
       "      <td>22</td>\n",
       "      <td>19.0</td>\n",
       "      <td>2.0</td>\n",
       "    </tr>\n",
       "    <tr>\n",
       "      <th>76-90</th>\n",
       "      <td>13.0</td>\n",
       "      <td>9.0</td>\n",
       "      <td>9.0</td>\n",
       "      <td>9.0</td>\n",
       "      <td>3.0</td>\n",
       "      <td>4.0</td>\n",
       "      <td>8</td>\n",
       "      <td>13.0</td>\n",
       "      <td>2.0</td>\n",
       "    </tr>\n",
       "    <tr>\n",
       "      <th>91-105</th>\n",
       "      <td>1.0</td>\n",
       "      <td>2.0</td>\n",
       "      <td>1.0</td>\n",
       "      <td>NaN</td>\n",
       "      <td>1.0</td>\n",
       "      <td>NaN</td>\n",
       "      <td>3</td>\n",
       "      <td>5.0</td>\n",
       "      <td>NaN</td>\n",
       "    </tr>\n",
       "    <tr>\n",
       "      <th>106-120</th>\n",
       "      <td>NaN</td>\n",
       "      <td>NaN</td>\n",
       "      <td>NaN</td>\n",
       "      <td>NaN</td>\n",
       "      <td>NaN</td>\n",
       "      <td>NaN</td>\n",
       "      <td>2</td>\n",
       "      <td>NaN</td>\n",
       "      <td>NaN</td>\n",
       "    </tr>\n",
       "  </tbody>\n",
       "</table>\n",
       "</div>"
      ],
      "text/plain": [
       "         2015  2016  2017  2018  2019  2020  2021  2022  2023\n",
       "0-15      4.0   5.0   4.0   4.0   NaN   3.0    10   7.0   1.0\n",
       "16-30     8.0   6.0   4.0   8.0   8.0   3.0     7  10.0   NaN\n",
       "31-45     7.0   7.0   7.0   7.0   7.0   2.0    13  12.0   1.0\n",
       "46-60     6.0   8.0   7.0   7.0  10.0   1.0    14  10.0   1.0\n",
       "61-75     8.0  12.0   6.0   6.0  12.0   6.0    22  19.0   2.0\n",
       "76-90    13.0   9.0   9.0   9.0   3.0   4.0     8  13.0   2.0\n",
       "91-105    1.0   2.0   1.0   NaN   1.0   NaN     3   5.0   NaN\n",
       "106-120   NaN   NaN   NaN   NaN   NaN   NaN     2   NaN   NaN"
      ]
     },
     "execution_count": 208,
     "metadata": {},
     "output_type": "execute_result"
    }
   ],
   "source": [
    "df_final"
   ]
  },
  {
   "cell_type": "markdown",
   "id": "9712179a",
   "metadata": {},
   "source": [
    "### Procedemos a completar los NaN con 0. En este caso por ser cantidad de goles por minuto correspondia poner 0 ya que no hubo goles"
   ]
  },
  {
   "cell_type": "code",
   "execution_count": 209,
   "id": "927476da",
   "metadata": {},
   "outputs": [
    {
     "data": {
      "text/html": [
       "<div>\n",
       "<style scoped>\n",
       "    .dataframe tbody tr th:only-of-type {\n",
       "        vertical-align: middle;\n",
       "    }\n",
       "\n",
       "    .dataframe tbody tr th {\n",
       "        vertical-align: top;\n",
       "    }\n",
       "\n",
       "    .dataframe thead th {\n",
       "        text-align: right;\n",
       "    }\n",
       "</style>\n",
       "<table border=\"1\" class=\"dataframe\">\n",
       "  <thead>\n",
       "    <tr style=\"text-align: right;\">\n",
       "      <th></th>\n",
       "      <th>2015</th>\n",
       "      <th>2016</th>\n",
       "      <th>2017</th>\n",
       "      <th>2018</th>\n",
       "      <th>2019</th>\n",
       "      <th>2020</th>\n",
       "      <th>2021</th>\n",
       "      <th>2022</th>\n",
       "      <th>2023</th>\n",
       "    </tr>\n",
       "  </thead>\n",
       "  <tbody>\n",
       "    <tr>\n",
       "      <th>0-15</th>\n",
       "      <td>4.0</td>\n",
       "      <td>5.0</td>\n",
       "      <td>4.0</td>\n",
       "      <td>4.0</td>\n",
       "      <td>0.0</td>\n",
       "      <td>3.0</td>\n",
       "      <td>10</td>\n",
       "      <td>7.0</td>\n",
       "      <td>1.0</td>\n",
       "    </tr>\n",
       "    <tr>\n",
       "      <th>16-30</th>\n",
       "      <td>8.0</td>\n",
       "      <td>6.0</td>\n",
       "      <td>4.0</td>\n",
       "      <td>8.0</td>\n",
       "      <td>8.0</td>\n",
       "      <td>3.0</td>\n",
       "      <td>7</td>\n",
       "      <td>10.0</td>\n",
       "      <td>0.0</td>\n",
       "    </tr>\n",
       "    <tr>\n",
       "      <th>31-45</th>\n",
       "      <td>7.0</td>\n",
       "      <td>7.0</td>\n",
       "      <td>7.0</td>\n",
       "      <td>7.0</td>\n",
       "      <td>7.0</td>\n",
       "      <td>2.0</td>\n",
       "      <td>13</td>\n",
       "      <td>12.0</td>\n",
       "      <td>1.0</td>\n",
       "    </tr>\n",
       "    <tr>\n",
       "      <th>46-60</th>\n",
       "      <td>6.0</td>\n",
       "      <td>8.0</td>\n",
       "      <td>7.0</td>\n",
       "      <td>7.0</td>\n",
       "      <td>10.0</td>\n",
       "      <td>1.0</td>\n",
       "      <td>14</td>\n",
       "      <td>10.0</td>\n",
       "      <td>1.0</td>\n",
       "    </tr>\n",
       "    <tr>\n",
       "      <th>61-75</th>\n",
       "      <td>8.0</td>\n",
       "      <td>12.0</td>\n",
       "      <td>6.0</td>\n",
       "      <td>6.0</td>\n",
       "      <td>12.0</td>\n",
       "      <td>6.0</td>\n",
       "      <td>22</td>\n",
       "      <td>19.0</td>\n",
       "      <td>2.0</td>\n",
       "    </tr>\n",
       "    <tr>\n",
       "      <th>76-90</th>\n",
       "      <td>13.0</td>\n",
       "      <td>9.0</td>\n",
       "      <td>9.0</td>\n",
       "      <td>9.0</td>\n",
       "      <td>3.0</td>\n",
       "      <td>4.0</td>\n",
       "      <td>8</td>\n",
       "      <td>13.0</td>\n",
       "      <td>2.0</td>\n",
       "    </tr>\n",
       "    <tr>\n",
       "      <th>91-105</th>\n",
       "      <td>1.0</td>\n",
       "      <td>2.0</td>\n",
       "      <td>1.0</td>\n",
       "      <td>0.0</td>\n",
       "      <td>1.0</td>\n",
       "      <td>0.0</td>\n",
       "      <td>3</td>\n",
       "      <td>5.0</td>\n",
       "      <td>0.0</td>\n",
       "    </tr>\n",
       "    <tr>\n",
       "      <th>106-120</th>\n",
       "      <td>0.0</td>\n",
       "      <td>0.0</td>\n",
       "      <td>0.0</td>\n",
       "      <td>0.0</td>\n",
       "      <td>0.0</td>\n",
       "      <td>0.0</td>\n",
       "      <td>2</td>\n",
       "      <td>0.0</td>\n",
       "      <td>0.0</td>\n",
       "    </tr>\n",
       "  </tbody>\n",
       "</table>\n",
       "</div>"
      ],
      "text/plain": [
       "         2015  2016  2017  2018  2019  2020  2021  2022  2023\n",
       "0-15      4.0   5.0   4.0   4.0   0.0   3.0    10   7.0   1.0\n",
       "16-30     8.0   6.0   4.0   8.0   8.0   3.0     7  10.0   0.0\n",
       "31-45     7.0   7.0   7.0   7.0   7.0   2.0    13  12.0   1.0\n",
       "46-60     6.0   8.0   7.0   7.0  10.0   1.0    14  10.0   1.0\n",
       "61-75     8.0  12.0   6.0   6.0  12.0   6.0    22  19.0   2.0\n",
       "76-90    13.0   9.0   9.0   9.0   3.0   4.0     8  13.0   2.0\n",
       "91-105    1.0   2.0   1.0   0.0   1.0   0.0     3   5.0   0.0\n",
       "106-120   0.0   0.0   0.0   0.0   0.0   0.0     2   0.0   0.0"
      ]
     },
     "execution_count": 209,
     "metadata": {},
     "output_type": "execute_result"
    }
   ],
   "source": [
    "df_final.fillna(0)"
   ]
  },
  {
   "cell_type": "code",
   "execution_count": null,
   "id": "4b2ff85e",
   "metadata": {},
   "outputs": [],
   "source": []
  }
 ],
 "metadata": {
  "kernelspec": {
   "display_name": "Python 3 (ipykernel)",
   "language": "python",
   "name": "python3"
  },
  "language_info": {
   "codemirror_mode": {
    "name": "ipython",
    "version": 3
   },
   "file_extension": ".py",
   "mimetype": "text/x-python",
   "name": "python",
   "nbconvert_exporter": "python",
   "pygments_lexer": "ipython3",
   "version": "3.9.13"
  }
 },
 "nbformat": 4,
 "nbformat_minor": 5
}
